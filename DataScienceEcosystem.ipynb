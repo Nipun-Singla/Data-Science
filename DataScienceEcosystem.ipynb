{
 "cells": [
  {
   "cell_type": "markdown",
   "id": "32005a4c",
   "metadata": {},
   "source": [
    "# Data Science Tools and Ecosystem"
   ]
  },
  {
   "cell_type": "markdown",
   "id": "799721df",
   "metadata": {},
   "source": [
    "In this notebook, Data Science Tools and Ecosystems are summarized."
   ]
  },
  {
   "cell_type": "markdown",
   "id": "0a2e8859",
   "metadata": {},
   "source": [
    "__Objectives:__\n",
    "- Popular languages for Data Science\n",
    "- Libraries for Data Science\n",
    "- Data Science tools\n",
    "- Introduction to airthemetic expressions"
   ]
  },
  {
   "cell_type": "markdown",
   "id": "25213efc",
   "metadata": {},
   "source": [
    "Some of the popular languages that Data Scientists use are:\n",
    "1. Python\n",
    "2. R\n",
    "3. SQL\n",
    "4. Scala\n",
    "5. Julia"
   ]
  },
  {
   "cell_type": "markdown",
   "id": "d1af8489",
   "metadata": {},
   "source": [
    "Some of the commonly used libraries used by Data Scientists include:\n",
    "1. Pandas\n",
    "2. Numpy\n",
    "3. Matplotlib\n",
    "4. Seaborn\n",
    "5. Scikit"
   ]
  },
  {
   "cell_type": "markdown",
   "id": "820f1936",
   "metadata": {},
   "source": [
    "| Data Science Tools |\n",
    "|:--------|\n",
    "| Jupyter NB |\n",
    "| Jupyter Lab |\n",
    "| R Studio |"
   ]
  },
  {
   "cell_type": "markdown",
   "id": "35b47434",
   "metadata": {},
   "source": [
    "### Below are a few examples of evaluating arithmetic expressions in Python.\n",
    "+ A+B --- Add two numbers.\n",
    "+ X*Z --- Multiplies two numbers.\n",
    "+ Y/W --- Divide Y by W"
   ]
  },
  {
   "cell_type": "code",
   "execution_count": 11,
   "id": "4f8ed415",
   "metadata": {},
   "outputs": [
    {
     "data": {
      "text/plain": [
       "17"
      ]
     },
     "execution_count": 11,
     "metadata": {},
     "output_type": "execute_result"
    }
   ],
   "source": [
    "#This a simple arithmetic expression to mutiply then add integers\n",
    "(3*4)+5"
   ]
  },
  {
   "cell_type": "code",
   "execution_count": 12,
   "id": "98bf0e02",
   "metadata": {},
   "outputs": [
    {
     "name": "stdout",
     "output_type": "stream",
     "text": [
      "3.3333333333333335\n"
     ]
    }
   ],
   "source": [
    "#This will convert 200 minutes to hours by diving by 60\n",
    "minutes = 200\n",
    "hours = minutes/60\n",
    "print(hours)"
   ]
  },
  {
   "cell_type": "code",
   "execution_count": 13,
   "id": "4e8cfdbb",
   "metadata": {},
   "outputs": [
    {
     "name": "stdout",
     "output_type": "stream",
     "text": [
      "3 Hours and  20 Minutes\n"
     ]
    }
   ],
   "source": [
    "#This will convert minutes into hours and minutes\n",
    "Minutes = 200\n",
    "Hours = Minutes//60\n",
    "Extra_Minutes = Minutes%60\n",
    "print(Hours,\"Hours and \",Extra_Minutes,\"Minutes\")"
   ]
  },
  {
   "cell_type": "markdown",
   "id": "1938caad",
   "metadata": {},
   "source": [
    "## Author\n",
    "Nipun Singla"
   ]
  }
 ],
 "metadata": {
  "kernelspec": {
   "display_name": "Python 3 (ipykernel)",
   "language": "python",
   "name": "python3"
  },
  "language_info": {
   "codemirror_mode": {
    "name": "ipython",
    "version": 3
   },
   "file_extension": ".py",
   "mimetype": "text/x-python",
   "name": "python",
   "nbconvert_exporter": "python",
   "pygments_lexer": "ipython3",
   "version": "3.10.9"
  }
 },
 "nbformat": 4,
 "nbformat_minor": 5
}
